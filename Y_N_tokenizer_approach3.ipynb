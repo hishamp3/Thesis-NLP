{
  "nbformat": 4,
  "nbformat_minor": 0,
  "metadata": {
    "colab": {
      "provenance": [],
      "gpuType": "T4",
      "authorship_tag": "ABX9TyPlW7QNj65+L119CdyISiIQ",
      "include_colab_link": true
    },
    "kernelspec": {
      "name": "python3",
      "display_name": "Python 3"
    },
    "language_info": {
      "name": "python"
    },
    "accelerator": "GPU"
  },
  "cells": [
    {
      "cell_type": "markdown",
      "metadata": {
        "id": "view-in-github",
        "colab_type": "text"
      },
      "source": [
        "<a href=\"https://colab.research.google.com/github/hishamp3/Thesis-NLP/blob/main/Y_N_tokenizer_approach3.ipynb\" target=\"_parent\"><img src=\"https://colab.research.google.com/assets/colab-badge.svg\" alt=\"Open In Colab\"/></a>"
      ]
    },
    {
      "cell_type": "code",
      "execution_count": null,
      "metadata": {
        "id": "KqxJRDBp_iqc"
      },
      "outputs": [],
      "source": [
        "# Install Transformers\n",
        "!pip install transformers==4.20.0\n",
        "!pip install torch torchvision\n",
        "!pip install pandas\n",
        "!pip install numpy"
      ]
    },
    {
      "cell_type": "code",
      "source": [
        "# loading data\n",
        "import pandas as pd\n",
        "train_data_df = pd.read_json(path_or_buf=\"./sample_data/train.jsonl\", lines=True,orient='records')\n",
        "dev_data_df = pd.read_json(path_or_buf=\"./sample_data/dev.jsonl\", lines=True,orient='records')"
      ],
      "metadata": {
        "id": "jvDDj9DhArft"
      },
      "execution_count": null,
      "outputs": []
    },
    {
      "cell_type": "code",
      "source": [
        "import random\n",
        "import torch\n",
        "import numpy as np\n",
        "import pandas as pd\n",
        "from tqdm import tqdm\n",
        "from torch.utils.data import TensorDataset, DataLoader, RandomSampler, SequentialSampler\n",
        "from transformers import AutoTokenizer, AutoModelForSequenceClassification, AdamW"
      ],
      "metadata": {
        "id": "iOjuRYiHBAJF"
      },
      "execution_count": null,
      "outputs": []
    },
    {
      "cell_type": "code",
      "source": [
        "!pip install torch torchvision torchaudio --extra-index-url https://download.pytorch.org/whl/cpu"
      ],
      "metadata": {
        "id": "q8BD2Rvnjrb6",
        "colab": {
          "base_uri": "https://localhost:8080/"
        },
        "outputId": "8b3d671b-66af-4b23-b8ff-051bef3348f8"
      },
      "execution_count": null,
      "outputs": [
        {
          "output_type": "stream",
          "name": "stdout",
          "text": [
            "Looking in indexes: https://pypi.org/simple, https://download.pytorch.org/whl/cpu\n",
            "Requirement already satisfied: torch in /usr/local/lib/python3.10/dist-packages (2.0.1+cu118)\n",
            "Requirement already satisfied: torchvision in /usr/local/lib/python3.10/dist-packages (0.15.2+cu118)\n",
            "Requirement already satisfied: torchaudio in /usr/local/lib/python3.10/dist-packages (2.0.2+cu118)\n",
            "Requirement already satisfied: filelock in /usr/local/lib/python3.10/dist-packages (from torch) (3.12.2)\n",
            "Requirement already satisfied: typing-extensions in /usr/local/lib/python3.10/dist-packages (from torch) (4.7.1)\n",
            "Requirement already satisfied: sympy in /usr/local/lib/python3.10/dist-packages (from torch) (1.12)\n",
            "Requirement already satisfied: networkx in /usr/local/lib/python3.10/dist-packages (from torch) (3.1)\n",
            "Requirement already satisfied: jinja2 in /usr/local/lib/python3.10/dist-packages (from torch) (3.1.2)\n",
            "Requirement already satisfied: triton==2.0.0 in /usr/local/lib/python3.10/dist-packages (from torch) (2.0.0)\n",
            "Requirement already satisfied: cmake in /usr/local/lib/python3.10/dist-packages (from triton==2.0.0->torch) (3.27.1)\n",
            "Requirement already satisfied: lit in /usr/local/lib/python3.10/dist-packages (from triton==2.0.0->torch) (16.0.6)\n",
            "Requirement already satisfied: numpy in /usr/local/lib/python3.10/dist-packages (from torchvision) (1.23.5)\n",
            "Requirement already satisfied: requests in /usr/local/lib/python3.10/dist-packages (from torchvision) (2.31.0)\n",
            "Requirement already satisfied: pillow!=8.3.*,>=5.3.0 in /usr/local/lib/python3.10/dist-packages (from torchvision) (9.4.0)\n",
            "Requirement already satisfied: MarkupSafe>=2.0 in /usr/local/lib/python3.10/dist-packages (from jinja2->torch) (2.1.3)\n",
            "Requirement already satisfied: charset-normalizer<4,>=2 in /usr/local/lib/python3.10/dist-packages (from requests->torchvision) (3.2.0)\n",
            "Requirement already satisfied: idna<4,>=2.5 in /usr/local/lib/python3.10/dist-packages (from requests->torchvision) (3.4)\n",
            "Requirement already satisfied: urllib3<3,>=1.21.1 in /usr/local/lib/python3.10/dist-packages (from requests->torchvision) (2.0.4)\n",
            "Requirement already satisfied: certifi>=2017.4.17 in /usr/local/lib/python3.10/dist-packages (from requests->torchvision) (2023.7.22)\n",
            "Requirement already satisfied: mpmath>=0.19 in /usr/local/lib/python3.10/dist-packages (from sympy->torch) (1.3.0)\n"
          ]
        }
      ]
    },
    {
      "cell_type": "code",
      "source": [
        "import transformers\n",
        "from transformers import BloomForCausalLM\n",
        "from transformers import BloomTokenizerFast\n",
        "from transformers import AutoTokenizer, AutoModelForCausalLM\n",
        "from transformers import GPT2Tokenizer, GPT2Model\n",
        "import torch"
      ],
      "metadata": {
        "id": "GBvBngz0VJp8"
      },
      "execution_count": null,
      "outputs": []
    },
    {
      "cell_type": "code",
      "source": [
        "import gc\n",
        "gc.collect()\n",
        "torch.cuda.empty_cache()"
      ],
      "metadata": {
        "id": "hqM8NJi6BCkJ"
      },
      "execution_count": null,
      "outputs": []
    },
    {
      "cell_type": "code",
      "source": [
        "# use GPU if available\n",
        "device = torch.device(\"cuda\" if torch.cuda.is_available() else \"cpu\")\n",
        "\n",
        "#setting seeds\n",
        "random.seed(26)\n",
        "np.random.seed(26)\n",
        "torch.manual_seed(26)\n",
        "\n",
        "#tokenizer = AutoTokenizer.from_pretrained(\"bigscience/bloom-560m\")\n",
        "#model = AutoModelForCausalLM.from_pretrained(\"bigscience/bloom-560m\")\n",
        "\n",
        "tokenizer = AutoTokenizer.from_pretrained('roberta-base')\n",
        "model = AutoModelForSequenceClassification.from_pretrained('roberta-large')\n",
        "#tokenizer = GPT2Tokenizer.from_pretrained('gpt2')\n",
        "#model = GPT2Model.from_pretrained('gpt2')"
      ],
      "metadata": {
        "id": "jlW9--EbBHz2",
        "colab": {
          "base_uri": "https://localhost:8080/"
        },
        "outputId": "7849e2a9-c619-424f-8ffd-c6fae8381f25"
      },
      "execution_count": null,
      "outputs": [
        {
          "output_type": "stream",
          "name": "stderr",
          "text": [
            "Some weights of the model checkpoint at roberta-large were not used when initializing RobertaForSequenceClassification: ['roberta.pooler.dense.weight', 'lm_head.dense.weight', 'lm_head.dense.bias', 'roberta.pooler.dense.bias', 'lm_head.decoder.weight', 'lm_head.layer_norm.weight', 'lm_head.layer_norm.bias', 'lm_head.bias']\n",
            "- This IS expected if you are initializing RobertaForSequenceClassification from the checkpoint of a model trained on another task or with another architecture (e.g. initializing a BertForSequenceClassification model from a BertForPreTraining model).\n",
            "- This IS NOT expected if you are initializing RobertaForSequenceClassification from the checkpoint of a model that you expect to be exactly identical (initializing a BertForSequenceClassification model from a BertForSequenceClassification model).\n",
            "Some weights of RobertaForSequenceClassification were not initialized from the model checkpoint at roberta-large and are newly initialized: ['classifier.dense.weight', 'classifier.out_proj.weight', 'classifier.dense.bias', 'classifier.out_proj.bias']\n",
            "You should probably TRAIN this model on a down-stream task to be able to use it for predictions and inference.\n"
          ]
        }
      ]
    },
    {
      "cell_type": "code",
      "source": [
        "model.to(device)\n",
        "learning_rate = 1e-5\n",
        "optimizer = AdamW(model.parameters(),lr=learning_rate,eps=1e-8)"
      ],
      "metadata": {
        "id": "eYPt4eBDBLg5",
        "colab": {
          "base_uri": "https://localhost:8080/"
        },
        "outputId": "2229f204-6950-4edb-8e2c-b3425ae2a669"
      },
      "execution_count": null,
      "outputs": [
        {
          "output_type": "stream",
          "name": "stderr",
          "text": [
            "/usr/local/lib/python3.10/dist-packages/transformers/optimization.py:306: FutureWarning: This implementation of AdamW is deprecated and will be removed in a future version. Use the PyTorch implementation torch.optim.AdamW instead, or set `no_deprecation_warning=True` to disable this warning\n",
            "  warnings.warn(\n"
          ]
        }
      ]
    },
    {
      "cell_type": "code",
      "source": [
        "def encode_data(tokenizer, questions, passages, max_length):\n",
        "    \"\"\"Encode the question/passage pairs into features than can be fed to the model\"\"\"\n",
        "    input_ids = []\n",
        "    attention_masks = []\n",
        "\n",
        "    for question,passage in zip(questions,passages):\n",
        "        encoded_data = tokenizer.encode_plus(question, passage, max_length=max_length, pad_to_max_length=True,truncation_strategy=\"longest_first\")\n",
        "        encoded_pair = encoded_data[\"input_ids\"]\n",
        "        attention_mask = encoded_data[\"attention_mask\"]\n",
        "\n",
        "        input_ids.append(encoded_pair)\n",
        "        attention_masks.append(attention_mask)\n",
        "\n",
        "    return np.array(input_ids),np.array(attention_masks)"
      ],
      "metadata": {
        "id": "RhTuitFFBO4z"
      },
      "execution_count": null,
      "outputs": []
    },
    {
      "cell_type": "code",
      "source": [
        "passages_train = train_data_df.passage.values\n",
        "questions_train = train_data_df.question.values\n",
        "answers_train = train_data_df.answer.values.astype(int)\n",
        "\n",
        "passages_dev = dev_data_df.passage.values\n",
        "questions_dev = dev_data_df.question.values\n",
        "answers_dev = dev_data_df.answer.values.astype(int)"
      ],
      "metadata": {
        "id": "9gJXI9ovBQ_l"
      },
      "execution_count": null,
      "outputs": []
    },
    {
      "cell_type": "code",
      "source": [
        "max_seq_length = 256\n",
        "input_ids_train,attention_masks_train = encode_data(tokenizer, questions_train, passages_train, max_seq_length)\n",
        "input_ids_dev,attention_masks_dev = encode_data(tokenizer, questions_dev, passages_dev, max_seq_length)\n",
        "\n",
        "train_features = (input_ids_train,attention_masks_train,answers_train)\n",
        "dev_features = (input_ids_dev,attention_masks_dev,answers_dev)"
      ],
      "metadata": {
        "id": "-ocFhJS2BTpO",
        "colab": {
          "base_uri": "https://localhost:8080/"
        },
        "outputId": "5705d6c4-c588-49d8-92bd-11130a045603"
      },
      "execution_count": null,
      "outputs": [
        {
          "output_type": "stream",
          "name": "stderr",
          "text": [
            "Truncation was not explicitly activated but `max_length` is provided a specific value, please use `truncation=True` to explicitly truncate examples to max length. Defaulting to 'longest_first' truncation strategy. If you encode pairs of sequences (GLUE-style) with the tokenizer you can select this strategy more precisely by providing a specific strategy to `truncation`.\n",
            "/usr/local/lib/python3.10/dist-packages/transformers/tokenization_utils_base.py:2301: FutureWarning: The `pad_to_max_length` argument is deprecated and will be removed in a future version, use `padding=True` or `padding='longest'` to pad to the longest sequence in the batch, or use `padding='max_length'` to pad to a max length. In this case, you can give a specific length with `max_length` (e.g. `max_length=45`) or leave max_length to None to pad to the maximal input size of the model (e.g. 512 for Bert).\n",
            "  warnings.warn(\n"
          ]
        }
      ]
    },
    {
      "cell_type": "code",
      "source": [
        "# building dataloaders\n",
        "batch_size = 8\n",
        "train_features_tensors = [torch.tensor(feature, dtype=torch.long) for feature in train_features]\n",
        "dev_features_tensors = [torch.tensor(feature, dtype=torch.long) for feature in dev_features]\n",
        "\n",
        "train_dataset = TensorDataset(*train_features_tensors)\n",
        "dev_dataset = TensorDataset(*dev_features_tensors)\n",
        "\n",
        "train_sampler = RandomSampler(train_dataset)\n",
        "dev_sampler = SequentialSampler(dev_dataset)\n",
        "\n",
        "train_dataloader = DataLoader(train_dataset, sampler=train_sampler, batch_size=batch_size)\n",
        "dev_dataloader = DataLoader(dev_dataset, sampler=dev_sampler, batch_size=batch_size)"
      ],
      "metadata": {
        "id": "PTI1dW7lBW3A"
      },
      "execution_count": null,
      "outputs": []
    },
    {
      "cell_type": "code",
      "source": [
        "print()"
      ],
      "metadata": {
        "id": "J90UQzK3BLo0",
        "colab": {
          "base_uri": "https://localhost:8080/"
        },
        "outputId": "325328fc-55af-4a5b-ce25-ba3d571fa2d5"
      },
      "execution_count": null,
      "outputs": [
        {
          "output_type": "stream",
          "name": "stdout",
          "text": [
            "\n"
          ]
        }
      ]
    },
    {
      "cell_type": "code",
      "source": [
        "torch.cuda.empty_cache()\n",
        "def cache_clear():\n",
        "    gc.collect()\n",
        "    torch.cuda.empty_cache()"
      ],
      "metadata": {
        "id": "JVRodJUzBcy-"
      },
      "execution_count": null,
      "outputs": []
    },
    {
      "cell_type": "code",
      "source": [
        "epochs =3\n",
        "grad_acc_steps = 4\n",
        "train_loss_values = []\n",
        "dev_acc_values = []\n",
        "\n",
        "for _ in tqdm(range(epochs), desc=\"Epoch\"):\n",
        "\n",
        "    #training\n",
        "    epoch_train_loss = 0\n",
        "    model.train()\n",
        "    model.zero_grad()\n",
        "\n",
        "    for step,batch in enumerate(train_dataloader):\n",
        "        inputs_ids = batch[0].to(device)\n",
        "        attention_masks = batch[1].to(device)\n",
        "        labels = batch[2].to(device)\n",
        "\n",
        "        # cache_clear()\n",
        "        outputs = model(inputs_ids, token_type_ids=None, attention_mask=attention_masks, labels=labels)\n",
        "        #outputs = model(inputs_ids, attention_mask=attention_masks, labels=labels)\n",
        "\n",
        "        loss = outputs[0]\n",
        "        loss = loss / grad_acc_steps\n",
        "        epoch_train_loss += loss.item()\n",
        "\n",
        "        loss.backward()\n",
        "\n",
        "        if(step+1) % grad_acc_steps == 0:\n",
        "            torch.nn.utils.clip_grad_norm_(model.parameters(),1.0)\n",
        "            optimizer.step()\n",
        "            model.zero_grad()\n",
        "\n",
        "    epoch_train_loss = epoch_train_loss / len(train_dataloader)\n",
        "    train_loss_values.append(epoch_train_loss)\n",
        "\n",
        "    #Evaluation\n",
        "    epoch_dev_accuracy = 0\n",
        "    model.eval()\n",
        "\n",
        "    for batch in dev_dataloader:\n",
        "\n",
        "        input_ids = batch[0].to(device)\n",
        "        attention_masks = batch[1].to(device)\n",
        "        labels = batch[2]\n",
        "\n",
        "        with torch.no_grad():\n",
        "            outputs = model(input_ids, token_type_ids=None, attention_mask = attention_masks)\n",
        "            # outputs = model(inputs_ids, attention_mask=attention_masks, labels=labels)\n",
        "\n",
        "        logits = outputs[0]\n",
        "        logits = logits.detach().cpu().numpy()\n",
        "\n",
        "        predictions = np.argmax(logits,axis=1).flatten()\n",
        "        labels = labels.numpy().flatten()\n",
        "\n",
        "        epoch_dev_accuracy += np.sum(predictions==labels)/len(labels)\n",
        "\n",
        "    epoch_dev_accuracy = epoch_dev_accuracy / len(dev_dataloader)\n",
        "    dev_acc_values.append(epoch_dev_accuracy)"
      ],
      "metadata": {
        "colab": {
          "base_uri": "https://localhost:8080/"
        },
        "id": "mcHaqWzyBmJr",
        "outputId": "e3361cbf-fa8d-4e85-f24c-eb819ce02a9e"
      },
      "execution_count": null,
      "outputs": [
        {
          "output_type": "stream",
          "name": "stderr",
          "text": [
            "Epoch: 100%|██████████| 3/3 [1:15:45<00:00, 1515.12s/it]\n"
          ]
        }
      ]
    },
    {
      "cell_type": "code",
      "source": [
        "import seaborn as sns\n",
        "import matplotlib.pyplot as plt\n",
        "\n",
        "sns.set()\n",
        "plt.plot(train_loss_values, label=\"train_loss\")\n",
        "plt.xlabel(\"Epoch\")\n",
        "plt.ylabel(\"Loss\")\n",
        "plt.title(\"Training Loss\")\n",
        "# plt.Legend()\n",
        "plt.xticks(np.arange(0,5))\n",
        "plt.show()"
      ],
      "metadata": {
        "id": "vvi7Nv4XQvdE",
        "colab": {
          "base_uri": "https://localhost:8080/",
          "height": 54
        },
        "outputId": "837d14a5-7676-41e0-bc34-8973d493e20c"
      },
      "execution_count": null,
      "outputs": [
        {
          "output_type": "display_data",
          "data": {
            "text/plain": [
              "<Figure size 640x480 with 1 Axes>"
            ],
            "image/png": "[encoded data removed]"
          },
          "metadata": {}
        }
      ]
    },
    {
      "cell_type": "code",
      "source": [
        "plt.plot(dev_acc_values, label=\"dev_acc\")\n",
        "plt.xlabel(\"Epoch\")\n",
        "plt.ylabel(\"Accuracy\")\n",
        "plt.title(\"Evaluation Accuracy\")\n",
        "# plt.Legend()\n",
        "plt.xticks(np.arange(0,5))\n",
        "plt.show()"
      ],
      "metadata": {
        "id": "pu_o2h7QDdrT",
        "colab": {
          "base_uri": "https://localhost:8080/",
          "height": 54
        },
        "outputId": "174802a6-26ce-4b3c-8b45-867ce515f663"
      },
      "execution_count": null,
      "outputs": [
        {
          "output_type": "display_data",
          "data": {
            "text/plain": [
              "<Figure size 640x480 with 1 Axes>"
            ],
            "image/png": "[encoded data removed]"
          },
          "metadata": {}
        }
      ]
    },
    {
      "cell_type": "code",
      "source": [
        "print(dev_acc_values)"
      ],
      "metadata": {
        "id": "2vPxvFJ9Ojt1"
      },
      "execution_count": null,
      "outputs": []
    },
    {
      "cell_type": "code",
      "source": [
        "def predict(question, passage):\n",
        "  sequence = tokenizer.encode_plus(question, passage, return_tensors=\"pt\")['input_ids'].to(device)\n",
        "\n",
        "  logits = model(sequence)[0]\n",
        "  probabilities = torch.softmax(logits, dim=1).detach().cpu().tolist()[0]\n",
        "  proba_yes = round(probabilities[1], 2)\n",
        "  proba_no = round(probabilities[0], 2)\n",
        "\n",
        "  print(f\"Question: {question}, Yes: {proba_yes}, No: {proba_no}\")\n",
        "\n",
        "passage_superbowl = \"\"\"Super Bowl 50 was an American football game to determine the champion of the National Football League\n",
        "                    (NFL) for the 2015 season. The American Football Conference (AFC) champion Denver Broncos defeated\n",
        "                    the National Football Conference (NFC) champion Carolina Panthers 24–10 to earn their third Super Bowl title.\n",
        "                    The game was played on February 7, 2016, at Levi's Stadium in the San Francisco Bay Area at Santa Clara,\n",
        "                    California. As this was the 50th Super Bowl, the league emphasized the 'golden anniversary' with various\n",
        "                    gold-themed initiatives, as well as temporarily suspending the tradition of naming each Super Bowl game\n",
        "                    with Roman numerals (under which the game would have been known as 'Super Bowl L'), so that the logo could\n",
        "                    prominently feature the Arabic numerals 50.\"\"\"\n",
        "\n",
        "passage_illuin = \"\"\"Illuin designs and builds solutions tailored to your strategic needs using Artificial Intelligence\n",
        "                  and the new means of human interaction this technology enables.\"\"\"\n",
        "\n",
        "passage_planets = '''A planet is a large, rounded astronomical body that is neither a star nor its remnant. The best available theory of planet formation is the nebular hypothesis, which posits that an interstellar cloud collapses out of a nebula to create a young protostar orbited by a protoplanetary disk. Planets grow in this disk by the gradual accumulation of material driven by gravity, a process called accretion. The Solar System has at least eight planets: the terrestrial planets Mercury, Venus, Earth and Mars, and the giant planets Jupiter, Saturn, Uranus and Neptune. These planets each rotate around an axis tilted with respect to its orbital pole. All planets of the Solar System other than Mercury possess a considerable atmosphere, and some share such features as ice caps, seasons, volcanism, hurricanes, tectonics, and even hydrology. Apart from Venus and Mars, the Solar System planets generate magnetic fields, and all except Venus and Mercury have natural satellites. The giant planets bear planetary rings, the most prominent being those of Saturn.'''\n",
        "planets_questions = [\n",
        "    \"Mercury is a planet\",\n",
        "    \"Planet is a star\",\n",
        "    \"Mercury has a no atmosphere\",\n",
        "    \"There are eight planets in solar system\",\n",
        "    \"There are hundred planets in solar system\",\n",
        "    \"Venus is closer to sun compared to mercury\"\n",
        "\n",
        "]\n",
        "\n",
        "superbowl_questions = [\n",
        "\"the Super Bowl 50 was played in November\",\n",
        "\"Did the Denver Broncos win the Super Bowl 50?\",\n",
        "\"Did the Carolina Panthers win the Super Bowl 50?\",\n",
        "\"Was the Super Bowl played at Levi's Stadium?\",\n",
        "\"Was the Super Bowl 50 played in Las Vegas?\",\n",
        "\"Was the Super Bowl 50 played in February?\",\n",
        "\"Was the Super Bowl 50 played in March?\"\n",
        "]\n",
        "\n",
        "question_illuin = \"Is Illuin the answer to your strategic needs?\""
      ],
      "metadata": {
        "id": "QlnX90NNRPq_"
      },
      "execution_count": null,
      "outputs": []
    },
    {
      "cell_type": "code",
      "source": [
        "for s_question in planets_questions:\n",
        "  predict(s_question, passage_planets)"
      ],
      "metadata": {
        "id": "eiv39OhdNXrF",
        "colab": {
          "base_uri": "https://localhost:8080/"
        },
        "outputId": "64c7f585-363b-45b5-bd70-61b55f3654dd"
      },
      "execution_count": null,
      "outputs": [
        {
          "output_type": "stream",
          "name": "stdout",
          "text": [
            "Question: Mercury is a planet, Yes: 0.97, No: 0.03\n",
            "Question: Planet is a star, Yes: 0.02, No: 0.98\n",
            "Question: Mercury has a no atmosphere, Yes: 0.23, No: 0.77\n",
            "Question: There are eight planets in solar system, Yes: 0.98, No: 0.02\n",
            "Question: There are hundred planets in solar system, Yes: 0.15, No: 0.85\n",
            "Question: Venus is closer to sun compared to mercury, Yes: 0.25, No: 0.75\n"
          ]
        }
      ]
    },
    {
      "cell_type": "code",
      "source": [
        "for s_question in superbowl_questions:\n",
        "  predict(s_question, passage_superbowl)\n",
        "\n",
        "predict(question_illuin, passage_illuin)"
      ],
      "metadata": {
        "id": "XJgT1VXsSc7r",
        "colab": {
          "base_uri": "https://localhost:8080/"
        },
        "outputId": "10c38287-ebc8-4101-d093-c8c2c969f70d"
      },
      "execution_count": null,
      "outputs": [
        {
          "output_type": "stream",
          "name": "stdout",
          "text": [
            "Question: the Super Bowl 50 was played in November, Yes: 0.17, No: 0.83\n",
            "Question: Did the Denver Broncos win the Super Bowl 50?, Yes: 0.99, No: 0.01\n",
            "Question: Did the Carolina Panthers win the Super Bowl 50?, Yes: 0.06, No: 0.94\n",
            "Question: Was the Super Bowl played at Levi's Stadium?, Yes: 0.99, No: 0.01\n",
            "Question: Was the Super Bowl 50 played in Las Vegas?, Yes: 0.02, No: 0.98\n",
            "Question: Was the Super Bowl 50 played in February?, Yes: 0.98, No: 0.02\n",
            "Question: Was the Super Bowl 50 played in March?, Yes: 0.09, No: 0.91\n",
            "Question: Is Illuin the answer to your strategic needs?, Yes: 0.95, No: 0.05\n"
          ]
        }
      ]
    }
  ]
}